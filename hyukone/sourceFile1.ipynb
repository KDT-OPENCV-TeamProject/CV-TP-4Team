{
 "cells": [
  {
   "cell_type": "code",
   "outputs": [],
   "source": [
    "import pandas as pd\n",
    "import numpy as np\n",
    "import matplotlib.pyplot as plt\n",
    "import torch\n",
    "import torch.nn as nn\n",
    "import torch.nn.functional as F\n",
    "import torch.optim as optim\n",
    "from torch.utils.data import Dataset, DataLoader, random_split\n",
    "import torchmetrics.functional as metrics\n",
    "from torchvision.datasets import ImageFolder\n",
    "from torchvision.transforms import transforms\n",
    "from bs4 import BeautifulSoup\n",
    "import os\n",
    "from torchinfo import summary\n",
    "from torchvision.models import resnet18"
   ],
   "metadata": {
    "collapsed": false,
    "ExecuteTime": {
     "end_time": "2024-03-27T06:02:30.605055400Z",
     "start_time": "2024-03-27T06:02:30.515928200Z"
    }
   },
   "id": "5660ce962e96d807",
   "execution_count": 42
  },
  {
   "cell_type": "code",
   "execution_count": 43,
   "id": "initial_id",
   "metadata": {
    "collapsed": true,
    "ExecuteTime": {
     "end_time": "2024-03-27T06:02:30.625206900Z",
     "start_time": "2024-03-27T06:02:30.558045100Z"
    }
   },
   "outputs": [],
   "source": [
    "# 군용 항공기 종류 식별자\n",
    "AIRCRAFT_TYPE = {\n",
    "    'A':'Attater',\n",
    "    'B':'Bomber',\n",
    "    'C':'Cargo',\n",
    "    'F':'Fighter',\n",
    "    'AH':'Attack Helicopter',\n",
    "    'CH':'Cargo Helicopter',\n",
    "    'UH':'Utility Helicopter'\n",
    "}"
   ]
  },
  {
   "cell_type": "code",
   "outputs": [],
   "source": [
    "# 군용 항공기 제조국 식별자\n",
    "AIRCRAFT_NATION = [\n",
    "    'USA',\n",
    "    'EUROPE',\n",
    "    'RUSSIA',\n",
    "    'CHINA'\n",
    "]"
   ],
   "metadata": {
    "collapsed": false,
    "ExecuteTime": {
     "end_time": "2024-03-27T06:02:30.657782100Z",
     "start_time": "2024-03-27T06:02:30.632065Z"
    }
   },
   "id": "b1230e7c7d7d71dc",
   "execution_count": 44
  },
  {
   "cell_type": "code",
   "outputs": [],
   "source": [
    "# 군용 항공기 명명 식별자\n",
    "AIRCRAFT_NAME = [\n",
    "    # USA\n",
    "    'A-10',\n",
    "    'B-1',\n",
    "    'B-2',\n",
    "    'B-52',\n",
    "    'C-5',\n",
    "    'C-17',\n",
    "    'C-130',\n",
    "    'CV-22',\n",
    "    'F-15',\n",
    "    'F-16',\n",
    "    'FA-18',\n",
    "    'F-22',\n",
    "    'F-35',\n",
    "    'AH-1',\n",
    "    'AH-64',\n",
    "    'CH-46',\n",
    "    'CH-47',\n",
    "    'CH-53',\n",
    "    'UH-60',\n",
    "    # Europe\n",
    "    'EF2000',\n",
    "    'Rafale',\n",
    "    'JAS-39',\n",
    "    'AV-8',\n",
    "    # Russia\n",
    "    'MIG-29',\n",
    "    'MIG-31',\n",
    "    'MIG-35',\n",
    "    'Su-30',\n",
    "    'Su-34',\n",
    "    'Su-57',\n",
    "    'Tu-160',\n",
    "    'Mi-8',\n",
    "    'Mi-24',\n",
    "    'Mi-28',\n",
    "    'Ka-52',\n",
    "    # CHINA\n",
    "    'J-15',\n",
    "    'J-20',\n",
    "    'H-6',\n",
    "    'Y-20',\n",
    "    'WZ-10',\n",
    "    # Unidentified\n",
    "    'UNIDENTIFIED'\n",
    "]"
   ],
   "metadata": {
    "collapsed": false,
    "ExecuteTime": {
     "end_time": "2024-03-27T06:02:30.660996Z",
     "start_time": "2024-03-27T06:02:30.649808400Z"
    }
   },
   "id": "41c53b6b16f5cc94",
   "execution_count": 45
  },
  {
   "cell_type": "code",
   "outputs": [
    {
     "data": {
      "text/plain": "40"
     },
     "execution_count": 46,
     "metadata": {},
     "output_type": "execute_result"
    }
   ],
   "source": [
    "len(AIRCRAFT_NAME)"
   ],
   "metadata": {
    "collapsed": false,
    "ExecuteTime": {
     "end_time": "2024-03-27T06:02:30.713319500Z",
     "start_time": "2024-03-27T06:02:30.667544800Z"
    }
   },
   "id": "e11bf0846345a4a5",
   "execution_count": 46
  },
  {
   "cell_type": "code",
   "outputs": [
    {
     "data": {
      "text/plain": "<torch._C.Generator at 0x1d0f960b9d0>"
     },
     "execution_count": 47,
     "metadata": {},
     "output_type": "execute_result"
    }
   ],
   "source": [
    "torch.random.manual_seed(40)"
   ],
   "metadata": {
    "collapsed": false,
    "ExecuteTime": {
     "end_time": "2024-03-27T06:02:30.733015Z",
     "start_time": "2024-03-27T06:02:30.692316900Z"
    }
   },
   "id": "9e855b81ca59a87e",
   "execution_count": 47
  },
  {
   "cell_type": "code",
   "outputs": [],
   "source": [
    "data_path = './data/2/'\n",
    "\n",
    "for name in AIRCRAFT_NAME:\n",
    "    os.makedirs(os.path.join(data_path, name), exist_ok=True)"
   ],
   "metadata": {
    "collapsed": false,
    "ExecuteTime": {
     "end_time": "2024-03-27T06:02:30.767627900Z",
     "start_time": "2024-03-27T06:02:30.719783700Z"
    }
   },
   "id": "f72aab67a79b0b7f",
   "execution_count": 48
  },
  {
   "cell_type": "code",
   "outputs": [],
   "source": [
    "transformer = transforms.Compose(transforms=[\n",
    "    transforms.ToTensor(),\n",
    "    transforms.Resize(size=[96, 96])]\n",
    ")"
   ],
   "metadata": {
    "collapsed": false,
    "ExecuteTime": {
     "end_time": "2024-03-27T06:02:30.771885Z",
     "start_time": "2024-03-27T06:02:30.741637100Z"
    }
   },
   "id": "559fe985d24824c9",
   "execution_count": 49
  },
  {
   "cell_type": "code",
   "outputs": [],
   "source": [
    "root_path = './data/'\n",
    "\n",
    "ImgDS_1 = ImageFolder(root_path+'1/', transform=transformer)\n",
    "ImgDS_2 = ImageFolder(root_path+'2/', transform=transformer)\n",
    "ImgDS_3 = ImageFolder(root_path+'crop/', transform=transformer)"
   ],
   "metadata": {
    "collapsed": false,
    "ExecuteTime": {
     "end_time": "2024-03-27T06:02:30.965454200Z",
     "start_time": "2024-03-27T06:02:30.778421Z"
    }
   },
   "id": "b24abe7d00135bf0",
   "execution_count": 50
  },
  {
   "cell_type": "code",
   "outputs": [
    {
     "name": "stdout",
     "output_type": "stream",
     "text": [
      "torch.Size([3, 96, 96]) 0\n"
     ]
    }
   ],
   "source": [
    "for f, t in ImgDS_1:\n",
    "    print(f.shape, t)\n",
    "    break"
   ],
   "metadata": {
    "collapsed": false,
    "ExecuteTime": {
     "end_time": "2024-03-27T06:02:31.053216600Z",
     "start_time": "2024-03-27T06:02:30.966541800Z"
    }
   },
   "id": "a00cc6154c5f79ba",
   "execution_count": 51
  },
  {
   "cell_type": "code",
   "outputs": [
    {
     "data": {
      "text/plain": "{0, 1, 2, 3, 4}"
     },
     "execution_count": 52,
     "metadata": {},
     "output_type": "execute_result"
    }
   ],
   "source": [
    "set(ImgDS_1.targets)"
   ],
   "metadata": {
    "collapsed": false,
    "ExecuteTime": {
     "end_time": "2024-03-27T06:02:31.098903600Z",
     "start_time": "2024-03-27T06:02:30.999213300Z"
    }
   },
   "id": "fd3f8f36e2ecaa9d",
   "execution_count": 52
  },
  {
   "cell_type": "code",
   "outputs": [
    {
     "data": {
      "text/plain": "{0,\n 1,\n 2,\n 3,\n 4,\n 5,\n 6,\n 7,\n 8,\n 9,\n 10,\n 11,\n 12,\n 13,\n 14,\n 15,\n 16,\n 17,\n 18,\n 19,\n 20,\n 21,\n 22,\n 23,\n 24,\n 25,\n 26,\n 27,\n 28,\n 29,\n 30,\n 31,\n 32,\n 33,\n 34,\n 35,\n 36,\n 37,\n 38,\n 39}"
     },
     "execution_count": 53,
     "metadata": {},
     "output_type": "execute_result"
    }
   ],
   "source": [
    "set(ImgDS_2.targets)"
   ],
   "metadata": {
    "collapsed": false,
    "ExecuteTime": {
     "end_time": "2024-03-27T06:02:31.114519200Z",
     "start_time": "2024-03-27T06:02:31.012391900Z"
    }
   },
   "id": "bfe87fc055cadf86",
   "execution_count": 53
  },
  {
   "cell_type": "code",
   "outputs": [],
   "source": [
    "class CNN(nn.Module):\n",
    "    def __init__(self, num_classes):\n",
    "        super(CNN, self).__init__()\n",
    "        self.layers = nn.Sequential(\n",
    "            nn.Conv2d(3, 128, 3, padding='same'),\n",
    "            nn.BatchNorm2d(128),\n",
    "            nn.ReLU(),\n",
    "            nn.MaxPool2d(kernel_size=2, stride=2),\n",
    "            \n",
    "            nn.Conv2d(128, 256, 3, padding='same'),\n",
    "            nn.BatchNorm2d(256),\n",
    "            nn.ReLU(),\n",
    "            \n",
    "            nn.Conv2d(256, 256, 3, padding='same'),\n",
    "            nn.BatchNorm2d(256),\n",
    "            nn.ReLU(),\n",
    "            nn.MaxPool2d(kernel_size=2, stride=2),\n",
    "            \n",
    "            nn.Conv2d(256, 256, 3, padding='same'),\n",
    "            nn.BatchNorm2d(256),\n",
    "            nn.ReLU(),\n",
    "            \n",
    "            nn.Conv2d(256, 128, 3, padding='same'),\n",
    "            nn.BatchNorm2d(128),\n",
    "            nn.ReLU(),\n",
    "            \n",
    "            nn.Conv2d(128, 128, 3, padding='same'),\n",
    "            nn.BatchNorm2d(128),\n",
    "            nn.ReLU(),\n",
    "            nn.AvgPool2d(kernel_size=2, stride=2),\n",
    "            \n",
    "            nn.Flatten(),\n",
    "            nn.Linear(128*12*12, num_classes)\n",
    "        )\n",
    "        \n",
    "    def forward(self, x):\n",
    "        return self.layers(x)"
   ],
   "metadata": {
    "collapsed": false,
    "ExecuteTime": {
     "end_time": "2024-03-27T06:02:31.161440900Z",
     "start_time": "2024-03-27T06:02:31.035940900Z"
    }
   },
   "id": "e2d734b3a9b592c0",
   "execution_count": 54
  },
  {
   "cell_type": "code",
   "outputs": [],
   "source": [
    "def makeLoader(self, batch=1, sampler=None):\n",
    "    train, valid, test = random_split(self, [0.7, 0.1, 0.2],\n",
    "                                      torch.Generator().manual_seed(40))\n",
    "    trainDL = DataLoader(train, batch_size=batch, sampler=sampler, shuffle=True)\n",
    "    validDL = DataLoader(valid, batch_size=batch, sampler=sampler, shuffle=True)\n",
    "    testDL = DataLoader(test, batch_size=batch, sampler=sampler, shuffle=True)\n",
    "    \n",
    "    return trainDL,validDL,testDL"
   ],
   "metadata": {
    "collapsed": false,
    "ExecuteTime": {
     "end_time": "2024-03-27T06:02:31.163549900Z",
     "start_time": "2024-03-27T06:02:31.043457300Z"
    }
   },
   "id": "e84e28f0ecb29128",
   "execution_count": 55
  },
  {
   "cell_type": "code",
   "outputs": [],
   "source": [
    "train_cost_list = []\n",
    "train_acc_list = []\n",
    "valid_cost_list = []\n",
    "valid_acc_list = []"
   ],
   "metadata": {
    "collapsed": false,
    "ExecuteTime": {
     "end_time": "2024-03-27T06:02:31.164600600Z",
     "start_time": "2024-03-27T06:02:31.058491700Z"
    }
   },
   "id": "a950e61ca4026a00",
   "execution_count": 56
  },
  {
   "cell_type": "code",
   "outputs": [],
   "source": [
    "def train_model(model, opt, epochs, trainDL, validDL, schd=None):\n",
    "    for epoch in range(1, epochs+1):\n",
    "        for f, t in trainDL:\n",
    "            model.train()\n",
    "            sum_acc = 0\n",
    "            \n",
    "            h = model(f)\n",
    "            # print(f.shape, t.shape, h.shape)\n",
    "            \n",
    "            cost = F.cross_entropy(h, t)\n",
    "            \n",
    "            opt.zero_grad()\n",
    "            cost.backward()\n",
    "            opt.step()\n",
    "            \n",
    "            sum_acc += metrics.accuracy(h, t, task='multiclass', num_classes=model.layers[-1].out_features)\n",
    "            print('.', end='')\n",
    "            \n",
    "        train_cost_list.append(cost)\n",
    "        train_acc_list.append(sum_acc / len(trainDL))\n",
    "        \n",
    "        for f, t in validDL:\n",
    "            model.eval()\n",
    "            sum_acc = 0\n",
    "            \n",
    "            h = model(f)\n",
    "            \n",
    "            cost = F.cross_entropy(h, t)\n",
    "            \n",
    "            sum_acc += metrics.accuracy(h, t, task='multiclass', num_classes=model.layers[-1].out_features)\n",
    "            \n",
    "        valid_cost_list.append(cost)\n",
    "        valid_acc_list.append(sum_acc / len(validDL))\n",
    "        \n",
    "        print(f'Epoch [{epoch:4}/{epochs:4}] ----------')\n",
    "        print(f'Train cost : {train_cost_list[-1]}, Train acc : {train_acc_list[-1]}')\n",
    "        print(f'Valid cost : {valid_cost_list[-1]}, Valid acc: {valid_acc_list[-1]}')\n",
    "        \n",
    "        if schd is not None:\n",
    "            schd.step(valid_cost_list[-1])\n",
    "        "
   ],
   "metadata": {
    "collapsed": false,
    "ExecuteTime": {
     "end_time": "2024-03-27T06:02:31.191612600Z",
     "start_time": "2024-03-27T06:02:31.078416900Z"
    }
   },
   "id": "dd885d13850e0608",
   "execution_count": 57
  },
  {
   "cell_type": "code",
   "outputs": [],
   "source": [
    "def test_model(model, testDL):\n",
    "    test_acc_list = []\n",
    "    test_f1_list = []\n",
    "    \n",
    "    model.eval()\n",
    "    for f, t in testDL:\n",
    "        h = model(f)\n",
    "        \n",
    "        test_acc_list.append(metrics.accuracy(h, t, task='multiclass', num_classes=model.layers[-1].out_features))\n",
    "        test_f1_list.append(metrics.f1_score(h, t, task='multiclass', num_classes=model.layers[-1].out_features))\n",
    "        \n",
    "    print(f'Average Test acc : {sum(test_acc_list) / len(testDL)}')\n",
    "    print(f'Average Test f1  : {sum(test_f1_list) / len(testDL)}')"
   ],
   "metadata": {
    "collapsed": false,
    "ExecuteTime": {
     "end_time": "2024-03-27T06:02:31.206818600Z",
     "start_time": "2024-03-27T06:02:31.090316800Z"
    }
   },
   "id": "a1faa92ce4f15266",
   "execution_count": 58
  },
  {
   "cell_type": "code",
   "outputs": [],
   "source": [
    "def exportModel(model, filename):\n",
    "    pass"
   ],
   "metadata": {
    "collapsed": false,
    "ExecuteTime": {
     "end_time": "2024-03-27T06:02:31.237800300Z",
     "start_time": "2024-03-27T06:02:31.104211200Z"
    }
   },
   "id": "58eda9d8b8cdcb41",
   "execution_count": 59
  },
  {
   "cell_type": "code",
   "outputs": [],
   "source": [
    "def model_predict(model, input):\n",
    "    pass"
   ],
   "metadata": {
    "collapsed": false,
    "ExecuteTime": {
     "end_time": "2024-03-27T06:02:31.238891100Z",
     "start_time": "2024-03-27T06:02:31.117666300Z"
    }
   },
   "id": "9b785aa9b00b1ac5",
   "execution_count": 60
  },
  {
   "cell_type": "code",
   "outputs": [],
   "source": [
    "trainDL1, validDL1, testDL1 = makeLoader(ImgDS_1, 64)\n",
    "trainDL2, validDL2, testDL2 = makeLoader(ImgDS_2, 64)\n",
    "trainDL3, validDL3, testDL3 = makeLoader(ImgDS_3, 64)"
   ],
   "metadata": {
    "collapsed": false,
    "ExecuteTime": {
     "end_time": "2024-03-27T06:02:31.252950700Z",
     "start_time": "2024-03-27T06:02:31.134961400Z"
    }
   },
   "id": "aedd845dee7ffd67",
   "execution_count": 61
  },
  {
   "cell_type": "code",
   "outputs": [],
   "source": [
    "model1 = CNN(len(os.listdir('./data/1/')))"
   ],
   "metadata": {
    "collapsed": false,
    "ExecuteTime": {
     "end_time": "2024-03-27T06:02:31.256175400Z",
     "start_time": "2024-03-27T06:02:31.150791700Z"
    }
   },
   "id": "21a671f2d2b8bfa2",
   "execution_count": 62
  },
  {
   "cell_type": "code",
   "outputs": [
    {
     "data": {
      "text/plain": "5"
     },
     "execution_count": 63,
     "metadata": {},
     "output_type": "execute_result"
    }
   ],
   "source": [
    "model1.layers[-1].out_features"
   ],
   "metadata": {
    "collapsed": false,
    "ExecuteTime": {
     "end_time": "2024-03-27T06:02:31.286904500Z",
     "start_time": "2024-03-27T06:02:31.182991Z"
    }
   },
   "id": "13eb3918af55828d",
   "execution_count": 63
  },
  {
   "cell_type": "code",
   "outputs": [],
   "source": [
    "model2 = CNN(len(AIRCRAFT_NAME))"
   ],
   "metadata": {
    "collapsed": false,
    "ExecuteTime": {
     "end_time": "2024-03-27T06:02:31.317023100Z",
     "start_time": "2024-03-27T06:02:31.195950700Z"
    }
   },
   "id": "cfb9c2359e42c1d6",
   "execution_count": 64
  },
  {
   "cell_type": "code",
   "outputs": [],
   "source": [
    "model3 = CNN(len(os.listdir('./data/crop/')))"
   ],
   "metadata": {
    "collapsed": false,
    "ExecuteTime": {
     "end_time": "2024-03-27T06:02:31.346249600Z",
     "start_time": "2024-03-27T06:02:31.232231Z"
    }
   },
   "id": "46a78c0297b70c0",
   "execution_count": 65
  },
  {
   "cell_type": "code",
   "outputs": [
    {
     "data": {
      "text/plain": "=================================================================\nLayer (type:depth-idx)                   Param #\n=================================================================\nCNN                                      --\n├─Sequential: 1-1                        --\n│    └─Conv2d: 2-1                       3,584\n│    └─BatchNorm2d: 2-2                  256\n│    └─ReLU: 2-3                         --\n│    └─MaxPool2d: 2-4                    --\n│    └─Conv2d: 2-5                       295,168\n│    └─BatchNorm2d: 2-6                  512\n│    └─ReLU: 2-7                         --\n│    └─Conv2d: 2-8                       590,080\n│    └─BatchNorm2d: 2-9                  512\n│    └─ReLU: 2-10                        --\n│    └─MaxPool2d: 2-11                   --\n│    └─Conv2d: 2-12                      590,080\n│    └─BatchNorm2d: 2-13                 512\n│    └─ReLU: 2-14                        --\n│    └─Conv2d: 2-15                      295,040\n│    └─BatchNorm2d: 2-16                 256\n│    └─ReLU: 2-17                        --\n│    └─Conv2d: 2-18                      147,584\n│    └─BatchNorm2d: 2-19                 256\n│    └─ReLU: 2-20                        --\n│    └─AvgPool2d: 2-21                   --\n│    └─Flatten: 2-22                     --\n│    └─Linear: 2-23                      866,351\n=================================================================\nTotal params: 2,790,191\nTrainable params: 2,790,191\nNon-trainable params: 0\n================================================================="
     },
     "execution_count": 66,
     "metadata": {},
     "output_type": "execute_result"
    }
   ],
   "source": [
    "summary((model3))"
   ],
   "metadata": {
    "collapsed": false,
    "ExecuteTime": {
     "end_time": "2024-03-27T06:02:31.348696200Z",
     "start_time": "2024-03-27T06:02:31.257264100Z"
    }
   },
   "id": "683accc95ff1053b",
   "execution_count": 66
  },
  {
   "cell_type": "code",
   "outputs": [],
   "source": [
    "opt1 = optim.Adam(model1.parameters())"
   ],
   "metadata": {
    "collapsed": false,
    "ExecuteTime": {
     "end_time": "2024-03-27T06:02:31.398665900Z",
     "start_time": "2024-03-27T06:02:31.272825900Z"
    }
   },
   "id": "fe10b53c99fedf6e",
   "execution_count": 67
  },
  {
   "cell_type": "code",
   "outputs": [],
   "source": [
    "opt2 = optim.Adam(model2.parameters())"
   ],
   "metadata": {
    "collapsed": false,
    "ExecuteTime": {
     "end_time": "2024-03-27T06:02:31.425920100Z",
     "start_time": "2024-03-27T06:02:31.291135500Z"
    }
   },
   "id": "137d68e31e5a7fac",
   "execution_count": 68
  },
  {
   "cell_type": "code",
   "outputs": [],
   "source": [
    "opt3 = optim.Adam(model3.parameters())"
   ],
   "metadata": {
    "collapsed": false,
    "ExecuteTime": {
     "end_time": "2024-03-27T06:02:31.441615200Z",
     "start_time": "2024-03-27T06:02:31.307950300Z"
    }
   },
   "id": "d4073cf7d8b511a4",
   "execution_count": 69
  },
  {
   "cell_type": "code",
   "outputs": [],
   "source": [
    "schd1 = optim.lr_scheduler.ReduceLROnPlateau(opt1)"
   ],
   "metadata": {
    "collapsed": false,
    "ExecuteTime": {
     "end_time": "2024-03-27T06:02:31.454398200Z",
     "start_time": "2024-03-27T06:02:31.321498Z"
    }
   },
   "id": "538ac36e05685ce1",
   "execution_count": 70
  },
  {
   "cell_type": "code",
   "outputs": [],
   "source": [
    "schd2 = optim.lr_scheduler.ReduceLROnPlateau(opt2)"
   ],
   "metadata": {
    "collapsed": false,
    "ExecuteTime": {
     "end_time": "2024-03-27T06:02:31.484972800Z",
     "start_time": "2024-03-27T06:02:31.445833100Z"
    }
   },
   "id": "73c43ad211d0ccdf",
   "execution_count": 71
  },
  {
   "cell_type": "code",
   "outputs": [],
   "source": [
    "schd3 = optim.lr_scheduler.ReduceLROnPlateau(opt3)"
   ],
   "metadata": {
    "collapsed": false,
    "ExecuteTime": {
     "end_time": "2024-03-27T06:02:31.522485700Z",
     "start_time": "2024-03-27T06:02:31.476870700Z"
    }
   },
   "id": "17f22b574f99777d",
   "execution_count": 72
  },
  {
   "cell_type": "code",
   "outputs": [
    {
     "name": "stdout",
     "output_type": "stream",
     "text": [
      ".....................................................................................................................................................................................................................................................Epoch [   1/  50] ----------\n",
      "Train cost : 3.6720738410949707, Train acc : 0.00022675737272948027\n",
      "Valid cost : 3.6406149864196777, Valid acc: 0.002005012473091483\n",
      ".....................................................................................................................................................................................................................................................Epoch [   2/  50] ----------\n",
      "Train cost : 3.4335711002349854, Train acc : 0.0009070294909179211\n",
      "Valid cost : 3.0784494876861572, Valid acc: 0.00501253129914403\n",
      ".....................................................................................................................................................................................................................................................Epoch [   3/  50] ----------\n",
      "Train cost : 1.9152551889419556, Train acc : 0.0020408162381500006\n",
      "Valid cost : 3.0357112884521484, Valid acc: 0.008020049892365932\n",
      ".....................................................................................................................................................................................................................................................Epoch [   4/  50] ----------\n",
      "Train cost : 1.9041047096252441, Train acc : 0.0022675737272948027\n",
      "Valid cost : 2.7682044506073, Valid acc: 0.009022556245326996\n",
      "..........."
     ]
    }
   ],
   "source": [
    "train_model(model3, opt3, 50, trainDL3, validDL3, schd3)"
   ],
   "metadata": {
    "collapsed": false,
    "is_executing": true,
    "ExecuteTime": {
     "start_time": "2024-03-27T06:02:31.494056500Z"
    }
   },
   "id": "57493ad5a49412f9",
   "execution_count": null
  },
  {
   "cell_type": "code",
   "outputs": [],
   "source": [],
   "metadata": {
    "collapsed": false,
    "is_executing": true
   },
   "id": "e1d30fd03f40138a"
  }
 ],
 "metadata": {
  "kernelspec": {
   "display_name": "Python 3",
   "language": "python",
   "name": "python3"
  },
  "language_info": {
   "codemirror_mode": {
    "name": "ipython",
    "version": 2
   },
   "file_extension": ".py",
   "mimetype": "text/x-python",
   "name": "python",
   "nbconvert_exporter": "python",
   "pygments_lexer": "ipython2",
   "version": "2.7.6"
  }
 },
 "nbformat": 4,
 "nbformat_minor": 5
}
